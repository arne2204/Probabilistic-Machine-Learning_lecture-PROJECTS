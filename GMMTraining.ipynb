{
 "cells": [
  {
   "cell_type": "code",
   "execution_count": 3,
   "id": "e9f0f8ce",
   "metadata": {},
   "outputs": [
    {
     "name": "stderr",
     "output_type": "stream",
     "text": [
      "c:\\Users\\johan\\AppData\\Local\\Programs\\Python\\Python310\\lib\\site-packages\\tqdm\\auto.py:21: TqdmWarning: IProgress not found. Please update jupyter and ipywidgets. See https://ipywidgets.readthedocs.io/en/stable/user_install.html\n",
      "  from .autonotebook import tqdm as notebook_tqdm\n"
     ]
    }
   ],
   "source": [
    "import numpy as np\n",
    "import pandas as pd\n",
    "from sklearn.mixture import GaussianMixture\n",
    "from sklearn.preprocessing import StandardScaler\n",
    "from collections import defaultdict\n",
    "from functools import reduce\n",
    "import os\n",
    "import joblib\n",
    "import pickle\n",
    "from pathlib import Path\n",
    "\n",
    "from joblib import Parallel, delayed\n",
    "from scipy.stats import multivariate_normal\n",
    "import optuna\n",
    "from optuna.samplers import TPESampler\n",
    "from typing import Tuple"
   ]
  },
  {
   "cell_type": "code",
   "execution_count": 4,
   "id": "b1a4bb2d",
   "metadata": {},
   "outputs": [],
   "source": [
    "#Input Parameters\n",
    "randomState= 21\n",
    "nComponents = list(range(1, 3)) #sinvolle Werte 1-20\n",
    "nInit = list(range(1, 11)) #sinvolle Werte 1-10\n",
    "nIter = [50, 100, 150, 200, 250, 300] #sinvolle Werte 50-300\n",
    "nInitFirstStep= 5\n",
    "nIterFirstStep= 150\n",
    "nJobs= -1\n",
    "nTrials= 20\n",
    "topK= 3\n",
    "notebook_dir = Path().resolve()\n",
    "storagePath = notebook_dir.parent / \"data\" / \"rowWiseModel\"\n"
   ]
  },
  {
   "cell_type": "code",
   "execution_count": null,
   "id": "f3039ded",
   "metadata": {},
   "outputs": [],
   "source": [
    "#Laden der Rowwise Daten da bessser geeignet\n",
    "rowwiseDf = pd.read_pickle(\"..\\\\data\\\\rowwiseDf.pkl\")"
   ]
  },
  {
   "cell_type": "code",
   "execution_count": 6,
   "id": "374a5f3b",
   "metadata": {},
   "outputs": [],
   "source": [
    "rowwiseDf= rowwiseDf.drop(columns= ['MESS_DATUM', 'STATIONS_ID', 'RS_IND', 'WRTR','   P', '   D', 'Stationsname', 'hour', 'day', 'month'])"
   ]
  },
  {
   "cell_type": "code",
   "execution_count": 7,
   "id": "5c91759e",
   "metadata": {},
   "outputs": [
    {
     "data": {
      "text/plain": [
       "Index(['TT_TU', 'RF_TU', '  R1', '  P0', '   F', 'Stationshoehe', 'geoBreite',\n",
       "       'geoLaenge', 'hour_sin', 'hour_cos', 'month_sin', 'month_cos',\n",
       "       'day_of_year_sin', 'day_of_year_cos'],\n",
       "      dtype='object')"
      ]
     },
     "execution_count": 7,
     "metadata": {},
     "output_type": "execute_result"
    }
   ],
   "source": [
    "rowwiseDf.columns"
   ]
  },
  {
   "cell_type": "code",
   "execution_count": 10,
   "id": "ffe07956",
   "metadata": {},
   "outputs": [
    {
     "data": {
      "text/plain": [
       "np.int64(0)"
      ]
     },
     "execution_count": 10,
     "metadata": {},
     "output_type": "execute_result"
    }
   ],
   "source": [
    "rowwiseDf.isnull().sum().sum()"
   ]
  },
  {
   "cell_type": "code",
   "execution_count": 8,
   "id": "48aec643",
   "metadata": {},
   "outputs": [],
   "source": [
    "X = rowwiseDf.values"
   ]
  },
  {
   "cell_type": "code",
   "execution_count": null,
   "id": "cd623542",
   "metadata": {},
   "outputs": [],
   "source": [
    "scaler= StandardScaler()\n",
    "xScaled= scaler.fit_transform(X)"
   ]
  },
  {
   "cell_type": "code",
   "execution_count": null,
   "id": "3f5bf69b",
   "metadata": {},
   "outputs": [],
   "source": [
    "os.makedirs(storagePath, exist_ok=True)"
   ]
  },
  {
   "cell_type": "code",
   "execution_count": null,
   "id": "0d6c2fb9",
   "metadata": {},
   "outputs": [],
   "source": [
    "def fit_gmm_and_save(X, n_components, modelDir):\n",
    "    model = GaussianMixture(n_components=n_components, n_init= nInitFirstStep, max_iter= nIterFirstStep, covariance_type='full', random_state=randomState)\n",
    "    model.fit(X)\n",
    "\n",
    "    modelPath = os.path.join(modelDir, f\"gmm_{n_components}_components.pkl\")\n",
    "    with open(modelPath, 'wb') as f:\n",
    "        pickle.dump(model, f)\n",
    "\n",
    "    return {\n",
    "        \"n_components\": n_components,\n",
    "        \"bic\": model.bic(X),\n",
    "        \"aic\": model.aic(X),\n",
    "        \"weights\": model.weights_,\n",
    "        \"converged\": model.converged_,\n",
    "        \"n_iter\": model.n_iter_,\n",
    "        \"model_path\": modelPath\n",
    "    }"
   ]
  },
  {
   "cell_type": "code",
   "execution_count": null,
   "id": "53e53337",
   "metadata": {},
   "outputs": [],
   "source": [
    "def train_gmm_parallel(X, componentRange, modelDir=\"gmm_models\", n_jobs= -1):\n",
    "    os.makedirs(modelDir, exist_ok=True)\n",
    "\n",
    "    results = Parallel(n_jobs=n_jobs)(\n",
    "        delayed(fit_gmm_and_save)(X, nComp, modelDir)\n",
    "        for nComp in componentRange\n",
    "    )\n",
    "\n",
    "    return pd.DataFrame(results)"
   ]
  },
  {
   "cell_type": "code",
   "execution_count": null,
   "id": "19e5ff8e",
   "metadata": {},
   "outputs": [],
   "source": [
    "if os.path.exists(storagePath/\"gmm_results.csv\"):\n",
    "    resultsDfExisting = pd.read_csv(storagePath/\"gmm_results.csv\")\n",
    "else:\n",
    "    resultsDfExisting = pd.DataFrame()\n",
    "\n",
    "existingModels = set()\n",
    "for f in os.listdir(storagePath):\n",
    "    if f.endswith(\".pkl\") and \"components\" in f:\n",
    "        parts = f.split(\"_\")\n",
    "        try:\n",
    "            # Erwartet: 'gmm_1_components.pkl' => parts[0] = 'gmm', parts[1] = '1', parts[2] = 'components.pkl'\n",
    "            n_comp = int(parts[1])\n",
    "            existingModels.add(n_comp)\n",
    "        except (IndexError, ValueError):\n",
    "            continue\n",
    "pending = [n for n in nComponents if n not in existingModels]\n",
    "\n",
    "if pending:\n",
    "    resultsDfNew  = train_gmm_parallel(X, pending, modelDir= storagePath)\n",
    "else:\n",
    "    print(\"Alle Modelle bereits trainiert.\")\n",
    "\n",
    "results_df = pd.concat([resultsDfExisting, resultsDfNew]).drop_duplicates(\"n_components\")\n",
    "results_df.to_csv(storagePath/\"gmm_results.csv\", index=False)\n"
   ]
  },
  {
   "cell_type": "code",
   "execution_count": null,
   "id": "b08c0558",
   "metadata": {},
   "outputs": [],
   "source": [
    "topComponents = results_df.nsmallest(topK, \"bic\")[\"n_components\"].tolist()"
   ]
  },
  {
   "cell_type": "code",
   "execution_count": null,
   "id": "231178c2",
   "metadata": {},
   "outputs": [],
   "source": [
    "def objective(trial, X, n_components, model_dir):\n",
    "    n_init = trial.suggest_categorical(\"n_init\", nInit)\n",
    "    max_iter = trial.suggest_categorical(\"max_iter\", nIter)\n",
    "\n",
    "    model_filename = f\"gmm_{n_components}_opt_{n_init}_{max_iter}.pkl\"\n",
    "    model_path = os.path.join(model_dir, model_filename)\n",
    "\n",
    "    if os.path.exists(model_path):\n",
    "        print(f\"⚠️ Modell bereits vorhanden: {model_filename} — wird übersprungen.\")\n",
    "        raise optuna.TrialPruned()\n",
    "\n",
    "    model = GaussianMixture(n_components=n_components, \n",
    "                            n_init=n_init, \n",
    "                            max_iter=max_iter, \n",
    "                            random_state=42)\n",
    "    model.fit(X)\n",
    "    \n",
    "    # Modell speichern\n",
    "    model_path = os.path.join(model_dir, f\"gmm_{n_components}_opt_{n_init}_{max_iter}.pkl\")\n",
    "    with open(model_path, 'wb') as f:\n",
    "        pickle.dump(model, f)\n",
    "\n",
    "    return model.bic(X)"
   ]
  },
  {
   "cell_type": "code",
   "execution_count": null,
   "id": "5036bff7",
   "metadata": {},
   "outputs": [
    {
     "name": "stderr",
     "output_type": "stream",
     "text": [
      "[I 2025-07-02 22:43:59,431] A new study created in RDB with name: gmm_2_opt\n"
     ]
    }
   ],
   "source": [
    "studies= []\n",
    "for i, n_comp in enumerate(topComponents):\n",
    "    study_name = f\"gmm_{n_comp}_opt\"\n",
    "    storage_path = f\"sqlite:///{os.path.join(storagePath, f'{study_name}.db')}\"\n",
    "    \n",
    "    studies[i] = optuna.create_study(direction=\"minimize\", study_name=study_name, \n",
    "                                storage=storage_path, load_if_exists=True)\n",
    "\n",
    "    studies[i].optimize(lambda trial: objective(trial, X, n_comp, storagePath), \n",
    "                   n_trials=20, n_jobs= nJobs,\n",
    "                   catch=(Exception,))"
   ]
  },
  {
   "cell_type": "code",
   "execution_count": null,
   "id": "571a280e",
   "metadata": {},
   "outputs": [
    {
     "ename": "ValueError",
     "evalue": "Record does not exist.",
     "output_type": "error",
     "traceback": [
      "\u001b[1;31m---------------------------------------------------------------------------\u001b[0m",
      "\u001b[1;31mValueError\u001b[0m                                Traceback (most recent call last)",
      "Cell \u001b[1;32mIn[25], line 1\u001b[0m\n\u001b[1;32m----> 1\u001b[0m params\u001b[38;5;241m=\u001b[39m \u001b[43mstudy\u001b[49m\u001b[38;5;241;43m.\u001b[39;49m\u001b[43mbest_params\u001b[49m\n",
      "File \u001b[1;32mc:\\Users\\johan\\AppData\\Local\\Programs\\Python\\Python310\\lib\\site-packages\\optuna\\study\\study.py:119\u001b[0m, in \u001b[0;36mStudy.best_params\u001b[1;34m(self)\u001b[0m\n\u001b[0;32m    107\u001b[0m \u001b[38;5;129m@property\u001b[39m\n\u001b[0;32m    108\u001b[0m \u001b[38;5;28;01mdef\u001b[39;00m\u001b[38;5;250m \u001b[39m\u001b[38;5;21mbest_params\u001b[39m(\u001b[38;5;28mself\u001b[39m) \u001b[38;5;241m-\u001b[39m\u001b[38;5;241m>\u001b[39m \u001b[38;5;28mdict\u001b[39m[\u001b[38;5;28mstr\u001b[39m, Any]:\n\u001b[0;32m    109\u001b[0m \u001b[38;5;250m    \u001b[39m\u001b[38;5;124;03m\"\"\"Return parameters of the best trial in the study.\u001b[39;00m\n\u001b[0;32m    110\u001b[0m \n\u001b[0;32m    111\u001b[0m \u001b[38;5;124;03m    .. note::\u001b[39;00m\n\u001b[1;32m   (...)\u001b[0m\n\u001b[0;32m    116\u001b[0m \n\u001b[0;32m    117\u001b[0m \u001b[38;5;124;03m    \"\"\"\u001b[39;00m\n\u001b[1;32m--> 119\u001b[0m     \u001b[38;5;28;01mreturn\u001b[39;00m \u001b[38;5;28;43mself\u001b[39;49m\u001b[38;5;241;43m.\u001b[39;49m\u001b[43mbest_trial\u001b[49m\u001b[38;5;241m.\u001b[39mparams\n",
      "File \u001b[1;32mc:\\Users\\johan\\AppData\\Local\\Programs\\Python\\Python310\\lib\\site-packages\\optuna\\study\\study.py:155\u001b[0m, in \u001b[0;36mStudy.best_trial\u001b[1;34m(self)\u001b[0m\n\u001b[0;32m    138\u001b[0m \u001b[38;5;129m@property\u001b[39m\n\u001b[0;32m    139\u001b[0m \u001b[38;5;28;01mdef\u001b[39;00m\u001b[38;5;250m \u001b[39m\u001b[38;5;21mbest_trial\u001b[39m(\u001b[38;5;28mself\u001b[39m) \u001b[38;5;241m-\u001b[39m\u001b[38;5;241m>\u001b[39m FrozenTrial:\n\u001b[0;32m    140\u001b[0m \u001b[38;5;250m    \u001b[39m\u001b[38;5;124;03m\"\"\"Return the best trial in the study.\u001b[39;00m\n\u001b[0;32m    141\u001b[0m \n\u001b[0;32m    142\u001b[0m \u001b[38;5;124;03m    .. note::\u001b[39;00m\n\u001b[1;32m   (...)\u001b[0m\n\u001b[0;32m    153\u001b[0m \n\u001b[0;32m    154\u001b[0m \u001b[38;5;124;03m    \"\"\"\u001b[39;00m\n\u001b[1;32m--> 155\u001b[0m     \u001b[38;5;28;01mreturn\u001b[39;00m \u001b[38;5;28;43mself\u001b[39;49m\u001b[38;5;241;43m.\u001b[39;49m\u001b[43m_get_best_trial\u001b[49m\u001b[43m(\u001b[49m\u001b[43mdeepcopy\u001b[49m\u001b[38;5;241;43m=\u001b[39;49m\u001b[38;5;28;43;01mTrue\u001b[39;49;00m\u001b[43m)\u001b[49m\n",
      "File \u001b[1;32mc:\\Users\\johan\\AppData\\Local\\Programs\\Python\\Python310\\lib\\site-packages\\optuna\\study\\study.py:307\u001b[0m, in \u001b[0;36mStudy._get_best_trial\u001b[1;34m(self, deepcopy)\u001b[0m\n\u001b[0;32m    301\u001b[0m \u001b[38;5;28;01mif\u001b[39;00m \u001b[38;5;28mself\u001b[39m\u001b[38;5;241m.\u001b[39m_is_multi_objective():\n\u001b[0;32m    302\u001b[0m     \u001b[38;5;28;01mraise\u001b[39;00m \u001b[38;5;167;01mRuntimeError\u001b[39;00m(\n\u001b[0;32m    303\u001b[0m         \u001b[38;5;124m\"\u001b[39m\u001b[38;5;124mA single best trial cannot be retrieved from a multi-objective study. Consider \u001b[39m\u001b[38;5;124m\"\u001b[39m\n\u001b[0;32m    304\u001b[0m         \u001b[38;5;124m\"\u001b[39m\u001b[38;5;124musing Study.best_trials to retrieve a list containing the best trials.\u001b[39m\u001b[38;5;124m\"\u001b[39m\n\u001b[0;32m    305\u001b[0m     )\n\u001b[1;32m--> 307\u001b[0m best_trial \u001b[38;5;241m=\u001b[39m \u001b[38;5;28;43mself\u001b[39;49m\u001b[38;5;241;43m.\u001b[39;49m\u001b[43m_storage\u001b[49m\u001b[38;5;241;43m.\u001b[39;49m\u001b[43mget_best_trial\u001b[49m\u001b[43m(\u001b[49m\u001b[38;5;28;43mself\u001b[39;49m\u001b[38;5;241;43m.\u001b[39;49m\u001b[43m_study_id\u001b[49m\u001b[43m)\u001b[49m\n\u001b[0;32m    309\u001b[0m \u001b[38;5;66;03m# If the trial with the best value is infeasible, select the best trial from all feasible\u001b[39;00m\n\u001b[0;32m    310\u001b[0m \u001b[38;5;66;03m# trials. Note that the behavior is undefined when constrained optimization without the\u001b[39;00m\n\u001b[0;32m    311\u001b[0m \u001b[38;5;66;03m# violation value in the best-valued trial.\u001b[39;00m\n\u001b[0;32m    312\u001b[0m constraints \u001b[38;5;241m=\u001b[39m best_trial\u001b[38;5;241m.\u001b[39msystem_attrs\u001b[38;5;241m.\u001b[39mget(_CONSTRAINTS_KEY)\n",
      "File \u001b[1;32mc:\\Users\\johan\\AppData\\Local\\Programs\\Python\\Python310\\lib\\site-packages\\optuna\\storages\\_cached_storage.py:180\u001b[0m, in \u001b[0;36m_CachedStorage.get_best_trial\u001b[1;34m(self, study_id)\u001b[0m\n\u001b[0;32m    179\u001b[0m \u001b[38;5;28;01mdef\u001b[39;00m\u001b[38;5;250m \u001b[39m\u001b[38;5;21mget_best_trial\u001b[39m(\u001b[38;5;28mself\u001b[39m, study_id: \u001b[38;5;28mint\u001b[39m) \u001b[38;5;241m-\u001b[39m\u001b[38;5;241m>\u001b[39m FrozenTrial:\n\u001b[1;32m--> 180\u001b[0m     \u001b[38;5;28;01mreturn\u001b[39;00m \u001b[38;5;28;43mself\u001b[39;49m\u001b[38;5;241;43m.\u001b[39;49m\u001b[43m_backend\u001b[49m\u001b[38;5;241;43m.\u001b[39;49m\u001b[43mget_best_trial\u001b[49m\u001b[43m(\u001b[49m\u001b[43mstudy_id\u001b[49m\u001b[43m)\u001b[49m\n",
      "File \u001b[1;32mc:\\Users\\johan\\AppData\\Local\\Programs\\Python\\Python310\\lib\\site-packages\\optuna\\storages\\_rdb\\storage.py:916\u001b[0m, in \u001b[0;36mRDBStorage.get_best_trial\u001b[1;34m(self, study_id)\u001b[0m\n\u001b[0;32m    914\u001b[0m         trial_id \u001b[38;5;241m=\u001b[39m models\u001b[38;5;241m.\u001b[39mTrialModel\u001b[38;5;241m.\u001b[39mfind_max_value_trial_id(study_id, \u001b[38;5;241m0\u001b[39m, session)\n\u001b[0;32m    915\u001b[0m     \u001b[38;5;28;01melse\u001b[39;00m:\n\u001b[1;32m--> 916\u001b[0m         trial_id \u001b[38;5;241m=\u001b[39m \u001b[43mmodels\u001b[49m\u001b[38;5;241;43m.\u001b[39;49m\u001b[43mTrialModel\u001b[49m\u001b[38;5;241;43m.\u001b[39;49m\u001b[43mfind_min_value_trial_id\u001b[49m\u001b[43m(\u001b[49m\u001b[43mstudy_id\u001b[49m\u001b[43m,\u001b[49m\u001b[43m \u001b[49m\u001b[38;5;241;43m0\u001b[39;49m\u001b[43m,\u001b[49m\u001b[43m \u001b[49m\u001b[43msession\u001b[49m\u001b[43m)\u001b[49m\n\u001b[0;32m    918\u001b[0m \u001b[38;5;28;01mreturn\u001b[39;00m \u001b[38;5;28mself\u001b[39m\u001b[38;5;241m.\u001b[39mget_trial(trial_id)\n",
      "File \u001b[1;32mc:\\Users\\johan\\AppData\\Local\\Programs\\Python\\Python310\\lib\\site-packages\\optuna\\storages\\_rdb\\models.py:236\u001b[0m, in \u001b[0;36mTrialModel.find_min_value_trial_id\u001b[1;34m(cls, study_id, objective, session)\u001b[0m\n\u001b[0;32m    216\u001b[0m trial \u001b[38;5;241m=\u001b[39m (\n\u001b[0;32m    217\u001b[0m     session\u001b[38;5;241m.\u001b[39mquery(\u001b[38;5;28mcls\u001b[39m)\n\u001b[0;32m    218\u001b[0m     \u001b[38;5;241m.\u001b[39mwith_entities(\u001b[38;5;28mcls\u001b[39m\u001b[38;5;241m.\u001b[39mtrial_id)\n\u001b[1;32m   (...)\u001b[0m\n\u001b[0;32m    233\u001b[0m     \u001b[38;5;241m.\u001b[39mone_or_none()\n\u001b[0;32m    234\u001b[0m )\n\u001b[0;32m    235\u001b[0m \u001b[38;5;28;01mif\u001b[39;00m trial \u001b[38;5;129;01mis\u001b[39;00m \u001b[38;5;28;01mNone\u001b[39;00m:\n\u001b[1;32m--> 236\u001b[0m     \u001b[38;5;28;01mraise\u001b[39;00m \u001b[38;5;167;01mValueError\u001b[39;00m(NOT_FOUND_MSG)\n\u001b[0;32m    237\u001b[0m \u001b[38;5;28;01mreturn\u001b[39;00m trial[\u001b[38;5;241m0\u001b[39m]\n",
      "\u001b[1;31mValueError\u001b[0m: Record does not exist."
     ]
    }
   ],
   "source": [
    "for study in studies:\n",
    "    params= study.best_params"
   ]
  },
  {
   "cell_type": "code",
   "execution_count": null,
   "id": "32953eab",
   "metadata": {},
   "outputs": [
    {
     "name": "stdout",
     "output_type": "stream",
     "text": [
      "Bester BIC: 15452547.706960948\n"
     ]
    }
   ],
   "source": [
    "\"\"\"model = GaussianMixture(\n",
    "    n_components=params[\"n_components\"],\n",
    "    n_init=params[\"n_init\"],\n",
    "    max_iter=params[\"max_iter\"]\n",
    ")\n",
    "model.fit(xScaled)\n",
    "\n",
    "# BIC ausgeben\n",
    "best_bic = model.bic(xScaled)\n",
    "print(\"Bester BIC:\", best_bic)\"\"\""
   ]
  },
  {
   "cell_type": "code",
   "execution_count": null,
   "id": "d47b2001",
   "metadata": {},
   "outputs": [
    {
     "data": {
      "text/plain": [
       "['..\\\\data\\\\gmm_study.pkl']"
      ]
     },
     "execution_count": 103,
     "metadata": {},
     "output_type": "execute_result"
    }
   ],
   "source": [
    "\"\"\"modelPath = os.path.join(\"..\", \"data\", \"gmm_model.pkl\")\n",
    "studyPath = os.path.join(\"..\", \"data\", \"gmm_study.pkl\")\n",
    "\n",
    "joblib.dump({'scaler': scaler, 'gmm': model}, modelPath)\n",
    "joblib.dump(study, studyPath)\"\"\""
   ]
  },
  {
   "cell_type": "code",
   "execution_count": null,
   "id": "562ec767",
   "metadata": {},
   "outputs": [
    {
     "name": "stdout",
     "output_type": "stream",
     "text": [
      "                    mean_real   mean_fake      std_real      std_fake  \\\n",
      "TT_TU            9.964315e+00    9.564061  7.902395e+00  7.647740e+00   \n",
      "RF_TU            7.612188e+01   77.373365  1.719759e+01  1.740857e+01   \n",
      "  R1             5.507807e-02    0.054244  4.708126e-01  3.819002e-01   \n",
      "  P0             9.781357e+02  978.811000  8.728157e+00  8.147721e+00   \n",
      "   F             4.209897e+00    3.241531  2.452403e+00  1.912893e+00   \n",
      "Stationshoehe    3.160000e+02  316.000000  0.000000e+00  0.000000e+00   \n",
      "geoBreite        5.098290e+01   50.982900  2.131640e-14  1.421797e-14   \n",
      "geoLaenge        1.096080e+01   10.960800  3.552734e-15  3.554491e-15   \n",
      "hour_sin        -1.838212e-17    0.015084  7.071108e-01  7.079012e-01   \n",
      "hour_cos        -5.543008e-17    0.038608  7.071108e-01  7.078157e-01   \n",
      "month_sin       -4.903879e-03   -0.035284  7.057371e-01  7.181424e-01   \n",
      "month_cos       -2.097550e-03    0.026735  7.084618e-01  6.949487e-01   \n",
      "day_of_year_sin  9.426811e-06   -0.034772  7.069173e-01  7.206112e-01   \n",
      "day_of_year_cos  5.475640e-04    0.017071  7.073041e-01  6.937725e-01   \n",
      "\n",
      "                    max_real     max_fake    min_real    min_fake  \n",
      "TT_TU              37.300000    37.620155  -20.500000  -14.015366  \n",
      "RF_TU             100.000000   137.699986   13.000000   18.191257  \n",
      "  R1               34.300000     3.842709    0.000000   -2.088843  \n",
      "  P0             1007.600000  1009.362961  934.100000  952.346671  \n",
      "   F               22.500000     9.692006    0.000000   -3.442842  \n",
      "Stationshoehe     316.000000   316.000000  316.000000  316.000000  \n",
      "geoBreite          50.982900    50.982900   50.982900   50.982900  \n",
      "geoLaenge          10.960800    10.960800   10.960800   10.960800  \n",
      "hour_sin            1.000000     2.534216   -1.000000   -2.194087  \n",
      "hour_cos            1.000000     2.557211   -1.000000   -2.341467  \n",
      "month_sin           1.000000     2.437681   -1.000000   -2.128901  \n",
      "month_cos           1.000000     1.964200   -1.000000   -1.971881  \n",
      "day_of_year_sin     0.999991     2.250891   -0.999991   -2.020483  \n",
      "day_of_year_cos     1.000000     2.257630   -0.999963   -2.287351  \n"
     ]
    }
   ],
   "source": [
    "\"\"\"tmp = pd.DataFrame(X, columns= rowwiseDf.columns)\n",
    "real_df = tmp[(tmp['Stationshoehe'] == 316) & (tmp['geoBreite'].sub(50.9829).abs() < 1e-4) & (tmp['geoLaenge'].sub(10.9608).abs() < 1e-4)]\n",
    "fake_df = pd.DataFrame(samplesOriginal, columns= rowwiseDf.columns)\n",
    "\n",
    "comparison = pd.DataFrame({\n",
    "    'mean_real': real_df.mean(),\n",
    "    'mean_fake': fake_df.mean(),\n",
    "    'std_real': real_df.std(),\n",
    "    'std_fake': fake_df.std(),\n",
    "    'max_real': real_df.max(),\n",
    "    'max_fake': fake_df.max(),\n",
    "    'min_real': real_df.min(),\n",
    "    'min_fake': fake_df.min()\n",
    "})\n",
    "\n",
    "print(comparison)\"\"\""
   ]
  },
  {
   "cell_type": "code",
   "execution_count": null,
   "id": "ea3aeefd",
   "metadata": {},
   "outputs": [],
   "source": []
  },
  {
   "cell_type": "code",
   "execution_count": null,
   "id": "e0418851",
   "metadata": {},
   "outputs": [],
   "source": [
    "#get the components stuff for explainebilty jeder component ist ein Mean\n",
    "#PCA für visulastion (funtkioniert nicht diskutieren)\n",
    "#Regresision within sample as possiblity (funktioniert gut)\n",
    "#maybe classification but not sure \n",
    "#should i try to generate hole day data (yes)\n",
    "#should i look at time sieres evaluation or just show my prelimenary results (prelimenary is fine)\n",
    "#Station conditional generation for central station one random on the edge and 1 or 2 in between (batches)\n",
    "#Gaussian Process as Timesieres Generalistation of GMM (auch noch Ankucken)\n",
    "#Mixture Factor Analyzer Model (MFA) aufjedenfall ankucken\n",
    "#Eher fokus auf auswertung oder noch Daussian Processes\n",
    "#LDA first\n",
    "\n",
    "#Lef the station out Important\n",
    "#Regolissian for Ridge\n",
    "\n",
    "#Power Transformation für Regen und Wind \n",
    "\n",
    "#Gaussian Process und Hiden Markov models nutzen wobei anzahl zustände gleich anzahl optimaler cluster aus erster analyse ist"
   ]
  }
 ],
 "metadata": {
  "kernelspec": {
   "display_name": "Python 3",
   "language": "python",
   "name": "python3"
  },
  "language_info": {
   "codemirror_mode": {
    "name": "ipython",
    "version": 3
   },
   "file_extension": ".py",
   "mimetype": "text/x-python",
   "name": "python",
   "nbconvert_exporter": "python",
   "pygments_lexer": "ipython3",
   "version": "3.10.0"
  }
 },
 "nbformat": 4,
 "nbformat_minor": 5
}
