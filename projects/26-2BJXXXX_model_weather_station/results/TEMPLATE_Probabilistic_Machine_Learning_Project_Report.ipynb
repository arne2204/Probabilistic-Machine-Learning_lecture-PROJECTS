{
  "cells": [
    {
      "cell_type": "markdown",
      "metadata": {
        "colab_type": "text",
        "id": "view-in-github"
      },
      "source": [
        "<a href=\"https://colab.research.google.com/github/IvaroEkel/Probabilistic-Machine-Learning_lecture-PROJECTS/blob/main/TEMPLATE_Probabilistic_Machine_Learning_Project_Report.ipynb\" target=\"_parent\"><img src=\"https://colab.research.google.com/assets/colab-badge.svg\" alt=\"Open In Colab\"/></a>"
      ]
    },
    {
      "cell_type": "markdown",
      "metadata": {
        "id": "HllaHun_QKXK"
      },
      "source": [
        "# Probabilistic Machine Learning - Project Report\n",
        "\n",
        "**Course:** Probabilistic Machine Learning (SoSe 2025)                                    \n",
        "**Lecturer:** Alvaro Diaz-Ruelas                                                     \n",
        "**Student(s) Name(s):** Johannes Betzler                                               \n",
        "**GitHub Username(s):** Gimelot                               \n",
        "**Date:** 09.06.2025                                                  \n",
        "**PROJECT-ID:** 26-2BJXXXX  \n",
        "\n",
        "---\n"
      ]
    },
    {
      "cell_type": "markdown",
      "metadata": {
        "id": "U9mvF1sORTHr"
      },
      "source": [
        "## 1. Introduction\n",
        "\n",
        "- The dataset is provided by the Deutscher Wetterdienst (DWD) and contains hourly meteorological measurements over a 10-year period, from January 1, 2014, to December 31, 2023. It includes parameters such as temperature, relative humidity, precipitation, pressure at station height, and wind speed. The data was collected from 19 weather stations located within a 100 km radius around the Erfurt-Weimar weather station. \n",
        "- The goal of this project is to generate realistic weather time series for an artificial location near Erfurt-Weimar using Gaussian-based methods (e.g., Gaussian Processes or Gaussian Mixture Models). This approach is suitable for capturing the uncertainty and correlations in time-series data and fits well within the context of probabilistic learning.\n",
        "- For evaluation, the Erfurt-Weimar station will be excluded from the training set, and weather data will be generated for this location. The generated time series will then be compared to the actual recorded data, allowing the assessment of the model's abilities to generalize and interpolate weather conditions for unseen locations."
      ]
    },
    {
      "cell_type": "markdown",
      "metadata": {
        "id": "rWmVdPMYRW4u"
      },
      "source": [
        "\n",
        "## 2. Data Loading and Exploration\n",
        "\n",
        "- The code used to load and process the data is available in the notebook DataframeGenerator.ipynb.\n",
        "\n",
        "- Basic Statisic:\n",
        "    - The dataset contains 87648 hourly entries per station, totaling 1,665,312 entries for 19 stations.\n",
        "    - Each station's data includes 22 columns:\n",
        "        - 8 time-related columns\n",
        "        - 2 station identification columns\n",
        "        - 3 geographic metadata columns\n",
        "        - 9 measured weather parameters, of which 5 are used for generation.\n",
        "    - The stations are located at elevations between 164 m and 938 m.\n",
        "\n",
        "- Missing Data:\n",
        "    - Up to 49% of values are missing per column overall, but for the features used in the generation model, the maximum missing rate is 1.23%.\n",
        "    - The longest gap in the dataset is 6054 hours, but the median gap length is 8 hours.\n",
        "    - For any single feature used in generation, the maximum missing rate per station is 7.61%\n",
        "\n",
        "    ![Histogramm Missing Value Precentage](Missing_Value_Precentage_hist.png)\n",
        "\n",
        "- Feature Distributions and Characteristics:\n",
        "    - TT_TU (Temperature):\n",
        "        - Unrealistic values are filtered.\n",
        "        - Median: 8.8 °C, Min: –23.4 °C, Max: 38.6 °C.\n",
        "        - Distributions are bell-shaped and fairly consistent across stations, though some are flatter.\n",
        "\n",
        "        ![Temperature Values](TT_TU_Values.png)\n",
        "\n",
        "    - RF_TU (Relative Humidity):\n",
        "        - Unrealistic values are filtered. \n",
        "        - Median: 82%, Min: 4%, Max: 100%.\n",
        "        - Higher humidity values occur more frequently, with a slight drop just before 100%, which varies by station.\n",
        "        - Distribution rises to the maximum in different patterns—some linear, others exponential.\n",
        "\n",
        "        ![Relativ Humidity Values](RF_TU_Values.png)\n",
        "\n",
        "    - R1 (Precipitation):\n",
        "        - Unrealistic values are filtered.\n",
        "        - Median and Min: 0 mm/hour, Max: 50 mm/hour.\n",
        "        - Over 75% of the values are 0 (no precipitation).\n",
        "\n",
        "        ![Percepation](R1_Values.png)\n",
        "\n",
        "    - P0 (Pressure):\n",
        "        - Unrealistic values are filtered.\n",
        "        - Median: 972 hPa, Min: 864, Max: 1027.\n",
        "        - Bell-shaped distributions.\n",
        "        - Stations fall into two groups with pressure modes around 915 hPa and 980 hPa respectively.\n",
        "\n",
        "        ![Preasure](P0_Values.png)\n",
        "\n",
        "    - F (Wind Speed):\n",
        "        - Unrealistic values are filtered.\n",
        "        - 3.1 m/s, Min: 0, Max: 23.9.\n",
        "        - Bell-shaped distribution with a positive skew (tail toward higher wind speeds), more pronounced at stations with lower peak wind speed.\n",
        "\n",
        "        ![Windspeed](F_Values.png)\n",
        "\n",
        "- Correlation Analysis:\n",
        "    - Temperature and Relative Humidity: Negatively correlated (–0.5).\n",
        "    - Wind Speed and Pressure: Positively correlated (+0.31).\n",
        "    - Temperature also correlates with:\n",
        "        - month_sin: +0.45\n",
        "        - month_cos: +0.64\n",
        "\n",
        "    ![Correlation Matrix](Corr.png)\n",
        "\n",
        "- Time Series Analysis:\n",
        "    - Hourly Patterns:\n",
        "        - Temperature peaks around 14:00, lowest around 04:00.\n",
        "\n",
        "        - Relative Humidity is highest at night, lowest during the day.\n",
        "\n",
        "        - Precipitation and Pressure are fairly constant throughout the day.\n",
        "        - Wind Speed tends to be higher during the day, though the extent varies by station.\n",
        "    \n",
        "    ![Tempreature Hourly](TT_TU_hourly.png)\n",
        "\n",
        "    ![Realativ Humidity Hourly](RF_TU_hourly.png)\n",
        "\n",
        "    ![Windspeed Hourly](F_hourly.png)    \n",
        "\n",
        "    - Daily Patterns:\n",
        "        - No significant patterns observed; values are relatively evenly distributed.\n",
        "\n",
        "    - Monthly Patterns:\n",
        "        - Temperature peaks in summer months.\n",
        "\n",
        "        - Relative Humidity is lowest during summer.\n",
        "\n",
        "        - Precipitation per hour is generally higher in summer than in winter.\n",
        "\n",
        "        - Pressure is fairly consistent year-round, with smaller variance in summer.\n",
        "        - Wind Speed tends to be lower in summer, higher in winter.\n",
        "\n",
        "    ![Tempreature Monthly](TT_TU_monthly.png)\n",
        "\n",
        "    ![Realativ Humidity Monthly](RF_TU_monthly.png)\n",
        "\n",
        "    ![Percepation Monthly](R1_monthly.png)\n",
        "\n",
        "    ![Windspeed Monthly](F_monthly.png)\n",
        "    \n",
        "- Inter-Parameter Consistency Checks:\n",
        "    - A notable inconsistency: In 226,511 cases, rain is recorded even though precipitation is 0 mm.\n",
        "    - All other consistency checks are passed.\n",
        "\n"
      ]
    },
    {
      "cell_type": "markdown",
      "metadata": {
        "id": "LRUhDk7WRbiZ"
      },
      "source": [
        "## 3. Data Preprocessing\n",
        "\n",
        "- Steps taken to clean or transform the data\n",
        "\n",
        "\n"
      ]
    },
    {
      "cell_type": "markdown",
      "metadata": {
        "id": "HtlE5KFnRfhM"
      },
      "source": [
        "## 4. Probabilistic Modeling Approach\n",
        "\n",
        "- Description of the models chosen\n",
        "- Why they are suitable for your problem\n",
        "- Mathematical formulations (if applicable)\n",
        "\n"
      ]
    },
    {
      "cell_type": "markdown",
      "metadata": {
        "id": "ndWeYCrFRhWa"
      },
      "source": [
        "## 5. Model Training and Evaluation\n",
        "\n",
        "- Training process\n",
        "- Model evaluation (metrics, plots, performance)\n",
        "- Cross-validation or uncertainty quantification\n",
        "\n"
      ]
    },
    {
      "cell_type": "markdown",
      "metadata": {
        "id": "kgVmBrEoRlbi"
      },
      "source": [
        "## 6. Results\n",
        "\n",
        "- Present key findings\n",
        "- Comparison of models if multiple approaches were used\n",
        "\n"
      ]
    },
    {
      "cell_type": "markdown",
      "metadata": {
        "id": "H0MIdzBjRnGK"
      },
      "source": [
        "## 7. Discussion\n",
        "\n",
        "- Interpretation of results\n",
        "- Limitations of the approach\n",
        "- Possible improvements or extensions\n",
        "\n"
      ]
    },
    {
      "cell_type": "markdown",
      "metadata": {
        "id": "hkAD7WOFRour"
      },
      "source": [
        "## 8. Conclusion\n",
        "\n",
        "- Summary of main outcomes\n",
        "\n"
      ]
    },
    {
      "cell_type": "markdown",
      "metadata": {
        "id": "4de-OwR1RqBG"
      },
      "source": [
        "## 9. References\n",
        "\n",
        "- Cite any papers, datasets, or tools used"
      ]
    }
  ],
  "metadata": {
    "colab": {
      "authorship_tag": "ABX9TyMd8hNYfc5F/MlA7kSAzq0o",
      "include_colab_link": true,
      "private_outputs": true,
      "provenance": []
    },
    "kernelspec": {
      "display_name": "Python 3",
      "name": "python3"
    },
    "language_info": {
      "name": "python"
    }
  },
  "nbformat": 4,
  "nbformat_minor": 0
}
