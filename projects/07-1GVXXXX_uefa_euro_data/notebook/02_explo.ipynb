{
 "cells": [
  {
   "cell_type": "code",
   "execution_count": 1,
   "id": "6657737e-f9f1-40e5-9968-2424dbe3f372",
   "metadata": {},
   "outputs": [],
   "source": [
    "# Daten Testen"
   ]
  },
  {
   "cell_type": "code",
   "execution_count": null,
   "id": "f068f7f4",
   "metadata": {},
   "outputs": [
    {
     "name": "stdout",
     "output_type": "stream",
     "text": [
      "               ID           Player  OverallScore  PlayingTimeMin  \\\n",
      "435  NuDFpt212002      Nuno Mendes      7.181799           419.0   \n",
      "555  ToMFde341990       Toni Kroos      7.083192           469.0   \n",
      "461  PeDFpt401983             Pepe      7.038814           408.0   \n",
      "248  JoDFde281995   Joshua Kimmich      6.952291           480.0   \n",
      "62   AyDFes291994  Aymeric Laporte      6.889462           525.0   \n",
      "\n",
      "     PlayingTimeMn/MP  TeamSuccessPPM  TeamSuccess+/-90  Per90MinG+A  \\\n",
      "435             105.0             2.0              0.64     0.495882   \n",
      "555              94.0             2.0              1.34     0.495882   \n",
      "461             102.0             2.0              0.88     0.495882   \n",
      "248              96.0             2.0              1.31     0.370000   \n",
      "62               88.0             3.0              1.37     0.495882   \n",
      "\n",
      "     TotalCmp%  SCAPerMP  CarriesDistPerMP  TouchesPerMP  TklIntPerMP  \\\n",
      "435       88.2       1.5            333.00        107.25         4.25   \n",
      "555       90.4       4.0            313.40        115.40         3.20   \n",
      "461       93.6       0.5            348.75        113.75         3.50   \n",
      "248       88.8       5.0            308.60         89.40         2.60   \n",
      "62        92.3       2.0            375.50         89.00         1.50   \n",
      "\n",
      "     AerialsWonPerMP  TklWPerMP  \n",
      "435         2.500000       1.50  \n",
      "555         0.200000       0.80  \n",
      "461         2.750000       1.25  \n",
      "248         0.600000       0.80  \n",
      "62          1.333333       0.50  \n"
     ]
    },
    {
     "name": "stderr",
     "output_type": "stream",
     "text": [
      "C:\\Users\\valen\\AppData\\Local\\Temp\\ipykernel_7576\\2100008021.py:60: FutureWarning: Downcasting object dtype arrays on .fillna, .ffill, .bfill is deprecated and will change in a future version. Call result.infer_objects(copy=False) instead. To opt-in to the future behavior, set `pd.set_option('future.no_silent_downcasting', True)`\n",
      "  df_clean[score_cols] = df_clean[score_cols].fillna(df_clean[score_cols].mean())\n"
     ]
    }
   ],
   "source": [
    "import pandas as pd\n",
    "from sklearn.preprocessing import MinMaxScaler\n",
    "\n",
    "df = pd.read_csv(r\"..\\data\\merged_all_by_ID.csv\")\n",
    "\n",
    "\n",
    "# Spalten definieren\n",
    "score_cols_raw = [\n",
    "    'PlayingTimeMin',\n",
    "    'PlayingTimeMn/MP',\n",
    "    'TeamSuccessPPM',\n",
    "    'TeamSuccess+/-90',\n",
    "    'Per90MinG+A',\n",
    "    'TotalCmp%',\n",
    "    'SCATypesPassLive',\n",
    "    'CarriesTotDist',\n",
    "    'Touches',\n",
    "    'Tkl+Int',\n",
    "    'AerialDuelsWon',\n",
    "    'PerformanceTklW',\n",
    "    'PlayingTimeMP'\n",
    "]\n",
    "\n",
    "# Nur Spieler behalten, bei denen PlayingTimeMP nicht null ist\n",
    "df = df[df['PlayingTimeMP'] > 0].copy()\n",
    "\n",
    "# Neue Spalten berechnen\n",
    "df['SCAPerMP'] = df['SCATypesPassLive'] / df['PlayingTimeMP']\n",
    "df['CarriesDistPerMP'] = df['CarriesTotDist'] / df['PlayingTimeMP']\n",
    "df['TouchesPerMP'] = df['Touches'] / df['PlayingTimeMP']\n",
    "df['TklIntPerMP'] = df['Tkl+Int'] / df['PlayingTimeMP']\n",
    "df['AerialsWonPerMP'] = df['AerialDuelsWon'] / df['PlayingTimeMP']\n",
    "df['TklWPerMP'] = df['PerformanceTklW'] / df['PlayingTimeMP']\n",
    "\n",
    "# Nur diese Spalten fürs Scoring\n",
    "score_cols = [\n",
    "    'PlayingTimeMin',\n",
    "    'PlayingTimeMn/MP',\n",
    "    'TeamSuccessPPM',\n",
    "    'TeamSuccess+/-90',\n",
    "    'Per90MinG+A',\n",
    "    'TotalCmp%',\n",
    "    'SCAPerMP',\n",
    "    'CarriesDistPerMP',\n",
    "    'TouchesPerMP',\n",
    "    'TklIntPerMP',\n",
    "    'AerialsWonPerMP',\n",
    "    'TklWPerMP'\n",
    "]\n",
    "\n",
    "# Nullwerte wie fehlende Werte behandeln\n",
    "df[score_cols] = df[score_cols].replace(0, pd.NA)\n",
    "\n",
    "# Spieler mit mehr als 1 fehlendem Wert ausschließen\n",
    "df['missing_count'] = df[score_cols].isna().sum(axis=1)\n",
    "df_clean = df[df['missing_count'] <= 1].copy()\n",
    "df_clean.drop(columns='missing_count', inplace=True)\n",
    "\n",
    "# NaN durch Spaltenmittelwert ersetzen (damit MinMax funktioniert)\n",
    "df_clean[score_cols] = df_clean[score_cols].fillna(df_clean[score_cols].mean())\n",
    "\n",
    "# Normalisieren (0–1) & Score berechnen\n",
    "scaler = MinMaxScaler()\n",
    "scaled = scaler.fit_transform(df_clean[score_cols])\n",
    "df_clean['OverallScore'] = scaled.sum(axis=1)\n",
    "\n",
    "# Ranking sortieren\n",
    "ranking = df_clean[['ID', 'Player', 'OverallScore'] + score_cols].sort_values(by='OverallScore', ascending=False)\n",
    "\n",
    "# Optional: speichern\n",
    "#ranking.to_csv(\"spieler_ranking.csv\", index=False)\n",
    "\n",
    "# Ausgabe anzeigen\n",
    "print(ranking.head(5))  # Top 20\n"
   ]
  },
  {
   "cell_type": "code",
   "execution_count": 3,
   "id": "d1d46147-48b1-43e3-ac9d-6ddea8f109cb",
   "metadata": {},
   "outputs": [
    {
     "data": {
      "image/png": "[encoded data removed]",
      "text/plain": [
       "<Figure size 1000x800 with 1 Axes>"
      ]
     },
     "metadata": {},
     "output_type": "display_data"
    }
   ],
   "source": [
    "import matplotlib.pyplot as plt\n",
    "\n",
    "#  Top 10 Spieler\n",
    "top20 = ranking.head(10).sort_values(by='OverallScore')  # für horizontale Sortierung\n",
    "\n",
    "plt.figure(figsize=(10, 8))\n",
    "plt.barh(top20['Player'], top20['OverallScore'], color='skyblue')\n",
    "plt.xlabel(\"Overall Score\")\n",
    "plt.title(\"Top 10 Spieler\")\n",
    "plt.tight_layout()\n",
    "plt.show()\n"
   ]
  },
  {
   "cell_type": "code",
   "execution_count": null,
   "id": "97323ee8-325a-4644-bb0f-397ead015c01",
   "metadata": {},
   "outputs": [],
   "source": []
  }
 ],
 "metadata": {
  "kernelspec": {
   "display_name": "Python 3",
   "language": "python",
   "name": "python3"
  },
  "language_info": {
   "codemirror_mode": {
    "name": "ipython",
    "version": 3
   },
   "file_extension": ".py",
   "mimetype": "text/x-python",
   "name": "python",
   "nbconvert_exporter": "python",
   "pygments_lexer": "ipython3",
   "version": "3.10.0"
  }
 },
 "nbformat": 4,
 "nbformat_minor": 5
}
