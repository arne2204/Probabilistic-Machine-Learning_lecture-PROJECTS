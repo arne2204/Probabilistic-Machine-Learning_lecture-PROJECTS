{
 "cells": [
  {
   "cell_type": "code",
   "execution_count": null,
   "id": "404a683b",
   "metadata": {},
   "outputs": [
    {
     "name": "stdout",
     "output_type": "stream",
     "text": [
      "                Spalte  Vollständigkeit (%)\n",
      "0                   ID           100.000000\n",
      "1               Player           100.000000\n",
      "2                  Pos           100.000000\n",
      "3                Squad           100.000000\n",
      "4                  Age           100.000000\n",
      "..                 ...                  ...\n",
      "212         CrossesOpp             4.669887\n",
      "186     PerformanceCS%             4.508857\n",
      "204       LaunchedCmp%             4.508857\n",
      "217     SweeperAvgDist             4.508857\n",
      "191  PenaltyKicksSave%             1.932367\n",
      "\n",
      "[219 rows x 2 columns]\n",
      "621\n",
      "                Spalte  Vollständigkeit (%)\n",
      "0                   ID           100.000000\n",
      "1               Player           100.000000\n",
      "2                  Pos           100.000000\n",
      "3                Squad           100.000000\n",
      "4                  Age           100.000000\n",
      "..                 ...                  ...\n",
      "212         CrossesOpp             7.799443\n",
      "217     SweeperAvgDist             7.799443\n",
      "215        Sweeper#OPA             7.799443\n",
      "204       LaunchedCmp%             7.520891\n",
      "191  PenaltyKicksSave%             3.342618\n",
      "\n",
      "[219 rows x 2 columns]\n",
      "359\n"
     ]
    }
   ],
   "source": [
    "#\n",
    "# Gibt für jede Spalte an, wie vollständig sie ist\n",
    "#\n",
    "import pandas as pd\n",
    "\n",
    "df = pd.read_csv(r\"C:\\Users\\valen\\OneDrive\\Dokumente\\01_Studium\\9\\Probabilistic ML\\Probabilistic-Machine-Learning_lecture-PROJECTS\\projects\\07-1GVXXXX_uefa_euro_data\\data\\merged_all_by_ID.csv\")\n",
    "df_sauber = pd.read_csv(r\"C:\\Users\\valen\\OneDrive\\Dokumente\\01_Studium\\9\\Probabilistic ML\\Probabilistic-Machine-Learning_lecture-PROJECTS\\projects\\07-1GVXXXX_uefa_euro_data\\results\\player_stats_clean.csv\")\n",
    "\n",
    "\n",
    "# Prozentuale Vollständigkeit pro Spalte\n",
    "completeness = df.notna().mean() * 100  # mean() auf True/False -> Anteil True\n",
    "completeness_df = completeness.reset_index()\n",
    "completeness_df.columns = [\"Spalte\", \"Vollständigkeit (%)\"]\n",
    "\n",
    "# Sortieren nach geringster Vollständigkeit\n",
    "completeness_df = completeness_df.sort_values(by=\"Vollständigkeit (%)\", ascending=False)\n",
    "\n",
    "# Ergebnis anzeigen\n",
    "print(completeness_df)\n",
    "print(len(df))\n",
    "\n",
    "# Prozentuale Vollständigkeit pro Spalte\n",
    "completeness1 = df_sauber.notna().mean() * 100  # mean() auf True/False -> Anteil True\n",
    "completeness_df1 = completeness1.reset_index()\n",
    "completeness_df1.columns = [\"Spalte\", \"Vollständigkeit (%)\"]\n",
    "\n",
    "# Sortieren nach geringster Vollständigkeit\n",
    "completeness_df1 = completeness_df1.sort_values(by=\"Vollständigkeit (%)\", ascending=False)\n",
    "\n",
    "# Ergebnis anzeigen\n",
    "print(completeness_df1)\n",
    "print(len(df_sauber))\n",
    "\n",
    "# Als Excel speichern\n",
    "# completeness_df.to_excel(\"vollstaendigkeit.xlsx\", index=False)\n"
   ]
  },
  {
   "cell_type": "code",
   "execution_count": 27,
   "id": "5d6a2b42",
   "metadata": {},
   "outputs": [
    {
     "name": "stdout",
     "output_type": "stream",
     "text": [
      "Alle: 621 Spieler\n",
      "Alle die gespielt haben: 493 Spieler\n",
      "Entfernt: 128 Spieler\n",
      "Alle die 90 Min gespielt haben: 359 Spieler\n",
      "Insgesamt Entfernt: 262 Spieler\n"
     ]
    }
   ],
   "source": [
    "#\n",
    "# Reduziert die Spieler nur wenn mehr als 90 Minuten gespielt dann in der Tabelle\n",
    "#\n",
    "\n",
    "anzahl_vorher = len(df)\n",
    "# Leere Zellen und Strings zu NaN machen\n",
    "df[\"PlayingTimeMin\"] = pd.to_numeric(df[\"PlayingTimeMin\"], errors=\"coerce\")\n",
    "\n",
    "# Nur Spieler mit > 0 Minuten behalten\n",
    "df_nachher = df[df[\"PlayingTimeMin\"] > 0]\n",
    "anzahl_nachher = len(df_nachher)\n",
    "\n",
    "print(f\"Alle: {anzahl_vorher} Spieler\")\n",
    "print(f\"Alle die gespielt haben: {anzahl_nachher} Spieler\")\n",
    "print(f\"Entfernt: {anzahl_vorher - anzahl_nachher} Spieler\")\n",
    "\n",
    "df_nachher1 = df[df[\"PlayingTimeMin\"] >= 90]\n",
    "anzahl_nachher1 = len(df_nachher1)\n",
    "\n",
    "print(f\"Alle die 90 Min gespielt haben: {anzahl_nachher1} Spieler\")\n",
    "print(f\"Insgesamt Entfernt: {anzahl_vorher - anzahl_nachher1} Spieler\")\n",
    "\n",
    "#df_nachher1.to_csv(\"player_stats_clean.csv\", index=False)\n"
   ]
  },
  {
   "cell_type": "code",
   "execution_count": null,
   "id": "7acee681",
   "metadata": {},
   "outputs": [
    {
     "name": "stdout",
     "output_type": "stream",
     "text": [
      "               ID               Player Pos        Squad  Age  Born  \\\n",
      "0    AbDFtr291994  Abdülkerim Bardakcı  DF   tr Türkiye   29  1994   \n",
      "1    AdFWpl271996           Adam Buksa  FW    pl Poland   27  1996   \n",
      "2    AdMFcz212002          Adam Hložek  MF   cz Czechia   21  2002   \n",
      "3    AdMFfr281995        Adrien Rabiot  MF    fr France   28  1995   \n",
      "4    AdMFsi241999    Adam Gnezda Čerin  MF  si Slovenia   24  1999   \n",
      "..            ...                  ...  ..          ...  ...   ...   \n",
      "354  ÁlFWes311992        Álvaro Morata  FW     es Spain   31  1992   \n",
      "355  İlMFde331990       İlkay Gündoğan  MF   de Germany   33  1990   \n",
      "356  İsMFtr251999        İsmail Yüksek  MF   tr Türkiye   25  1999   \n",
      "357  ŁuGKpl321991     Łukasz Skorupski  GK    pl Poland   32  1991   \n",
      "358  ŽaDFsi291994        Žan Karničnik  DF  si Slovenia   29  1994   \n",
      "\n",
      "     PlayingTimeMP  PlayingTimeMin  PlayingTimeMn/MP  PlayingTimeMin%  ...  \\\n",
      "0                4           360.0              90.0             80.0  ...   \n",
      "1                2           149.0              75.0             55.2  ...   \n",
      "2                2           108.0              54.0             40.0  ...   \n",
      "3                5           371.0              74.0             65.1  ...   \n",
      "4                4           390.0              98.0            100.0  ...   \n",
      "..             ...             ...               ...              ...  ...   \n",
      "354              7           449.0              64.0             68.0  ...   \n",
      "355              5           383.0              77.0             79.8  ...   \n",
      "356              3           152.0              51.0             33.8  ...   \n",
      "357              1            90.0              90.0             33.3  ...   \n",
      "358              4           390.0              98.0            100.0  ...   \n",
      "\n",
      "     GoalKicksAtt  GoalKicksLaunch%  GoalKicksAvgLen  CrossesOpp  CrossesStp  \\\n",
      "0             NaN               NaN              NaN         NaN         NaN   \n",
      "1             NaN               NaN              NaN         NaN         NaN   \n",
      "2             NaN               NaN              NaN         NaN         NaN   \n",
      "3             NaN               NaN              NaN         NaN         NaN   \n",
      "4             NaN               NaN              NaN         NaN         NaN   \n",
      "..            ...               ...              ...         ...         ...   \n",
      "354           NaN               NaN              NaN         NaN         NaN   \n",
      "355           NaN               NaN              NaN         NaN         NaN   \n",
      "356           NaN               NaN              NaN         NaN         NaN   \n",
      "357          13.0              38.5             33.9        16.0         1.0   \n",
      "358           NaN               NaN              NaN         NaN         NaN   \n",
      "\n",
      "     CrossesStp%  Sweeper#OPA  Sweeper#OPA/90  SweeperAvgDist  missing_pct  \n",
      "0            NaN          NaN             NaN             NaN     0.196347  \n",
      "1            NaN          NaN             NaN             NaN     0.196347  \n",
      "2            NaN          NaN             NaN             NaN     0.191781  \n",
      "3            NaN          NaN             NaN             NaN     0.196347  \n",
      "4            NaN          NaN             NaN             NaN     0.196347  \n",
      "..           ...          ...             ...             ...          ...  \n",
      "354          NaN          NaN             NaN             NaN     0.187215  \n",
      "355          NaN          NaN             NaN             NaN     0.191781  \n",
      "356          NaN          NaN             NaN             NaN     0.200913  \n",
      "357          6.3          2.0             2.0            12.9     0.045662  \n",
      "358          NaN          NaN             NaN             NaN     0.196347  \n",
      "\n",
      "[359 rows x 219 columns]\n"
     ]
    }
   ],
   "source": [
    "print(df_sauber)"
   ]
  },
  {
   "cell_type": "code",
   "execution_count": null,
   "id": "0a133513",
   "metadata": {},
   "outputs": [],
   "source": []
  }
 ],
 "metadata": {
  "kernelspec": {
   "display_name": "Python 3",
   "language": "python",
   "name": "python3"
  },
  "language_info": {
   "codemirror_mode": {
    "name": "ipython",
    "version": 3
   },
   "file_extension": ".py",
   "mimetype": "text/x-python",
   "name": "python",
   "nbconvert_exporter": "python",
   "pygments_lexer": "ipython3",
   "version": "3.10.0"
  }
 },
 "nbformat": 4,
 "nbformat_minor": 5
}
