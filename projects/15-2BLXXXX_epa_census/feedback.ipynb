{
 "cells": [
  {
   "cell_type": "markdown",
   "id": "bb92c40f",
   "metadata": {},
   "source": [
    "# COMMENTS:\n",
    "\n",
    "- [23.Mai.2025] Please start exploring your dataset(s), provide a general description of it: Spurce of the data and its general meaning and contents, number of samples, number of features, etc., and then provide a summary of the data types and missing values.\n",
    "  You can already include that progress of cleaning the data and its description in the report. "
   ]
  },
  {
   "cell_type": "markdown",
   "id": "edfdb98d",
   "metadata": {},
   "source": [
    "[06.Jun.2025] Please summarize in a clear and concise way what you have made so far in the notebook 'CarOwnership.ipynb', so it is easier for me to give you feedback on it, and then you already advance with progress in the report.\n",
    "  "
   ]
  },
  {
   "cell_type": "markdown",
   "id": "6d9150f9",
   "metadata": {},
   "source": []
  }
 ],
 "metadata": {
  "language_info": {
   "name": "python"
  }
 },
 "nbformat": 4,
 "nbformat_minor": 5
}
