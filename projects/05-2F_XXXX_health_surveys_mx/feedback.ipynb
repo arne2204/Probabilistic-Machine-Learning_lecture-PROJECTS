{
 "cells": [
  {
   "cell_type": "markdown",
   "id": "bb92c40f",
   "metadata": {},
   "source": [
    "# COMMENTS:\n"
   ]
  },
  {
   "cell_type": "markdown",
   "id": "31950b9a",
   "metadata": {},
   "source": [
    "\n",
    "[23.Mai.2025] Please start exploring the dataset I sent you via email and clean it up, provide a general description of it: Spurce of the data and its general meaning and contents, number of samples, number of features, etc., and then provide a summary of the data types and missing values.\n",
    "  You can already include that progress of cleaning the data and its description in the report. "
   ]
  },
  {
   "cell_type": "markdown",
   "id": "edfdb98d",
   "metadata": {},
   "source": [
    "[06.Jun.2025] Please continue exploring the dataset I sent you. You need to have the description phase completed by the end of next week and start making analysis of feature importance to select the most relevant features for the model. \n",
    "\n",
    "\n"
   ]
  },
  {
   "cell_type": "markdown",
   "id": "be57bb6d",
   "metadata": {},
   "source": [
    "[18.Jun.2025] Here you have a google docs made in collaboration with a mexican Nutriologist friend of mine, who told me about the data and who is interested in extracting meaningfiul information from it. If you want I might be able to connect you with her so you can ask her questions about the data and its meaning.\n",
    "\n",
    "https://docs.google.com/document/d/1HrGtlu2GKgaM3lAAZ2afZupLzVlmTnJXNqO3WGcR_Gg/edit?usp=sharing"
   ]
  },
  {
   "cell_type": "markdown",
   "id": "a7627ce9",
   "metadata": {},
   "source": []
  },
  {
   "cell_type": "markdown",
   "id": "46d5ba89",
   "metadata": {},
   "source": []
  }
 ],
 "metadata": {
  "kernelspec": {
   "display_name": "Python 3 (ipykernel)",
   "language": "python",
   "name": "python3"
  },
  "language_info": {
   "codemirror_mode": {
    "name": "ipython",
    "version": 3
   },
   "file_extension": ".py",
   "mimetype": "text/x-python",
   "name": "python",
   "nbconvert_exporter": "python",
   "pygments_lexer": "ipython3",
   "version": "3.12.8"
  }
 },
 "nbformat": 4,
 "nbformat_minor": 5
}
