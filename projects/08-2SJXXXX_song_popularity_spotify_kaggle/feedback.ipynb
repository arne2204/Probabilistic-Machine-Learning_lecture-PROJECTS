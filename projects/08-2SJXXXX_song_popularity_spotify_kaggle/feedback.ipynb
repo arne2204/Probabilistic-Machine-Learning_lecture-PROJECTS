{
 "cells": [
  {
   "cell_type": "markdown",
   "id": "02d1e7fe",
   "metadata": {},
   "source": [
    "# COMMENTS:\n",
    "\n",
    "\n",
    "Please start exploring your dataset(s). Start by assesing the state of the dataset(s) (for instance, if it is raw data that needs cleaning and/or reformatting, etc.). Then provide a general description of it: Spurce of the data and its general meaning and contents, number of samples, number of features, etc., and then provide a summary of the data types and missing values.\n",
    "You can already include that progress of cleaning the data and its description in the report. "
   ]
  },
  {
   "cell_type": "markdown",
   "id": "ad792847",
   "metadata": {},
   "source": [
    "[06.Jun.2025] It is good that you have started exploring the dataset. I suggest that in addition to the features that you correctly identified as irrelevant, you also remove columns such as track_album_id, and other properties that are not music-related. Perhaps even the name of the track is not needed, although it would be interesting to see if metrics such as the lenght of the title or the number of words in it have any correlation with the popularity of the track, just for fun."
   ]
  },
  {
   "cell_type": "markdown",
   "id": "4989f071",
   "metadata": {},
   "source": [
    "[25.Jun.2025] I can see you are trying to progress in the exploration of the data, but you also need to start writing about the general scheme of what you want to achieve, and put it in words in a separate document: The report document."
   ]
  },
  {
   "cell_type": "markdown",
   "id": "b914e75c",
   "metadata": {},
   "source": []
  }
 ],
 "metadata": {
  "language_info": {
   "name": "python"
  }
 },
 "nbformat": 4,
 "nbformat_minor": 5
}
