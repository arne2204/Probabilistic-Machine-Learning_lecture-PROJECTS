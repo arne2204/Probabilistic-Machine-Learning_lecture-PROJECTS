{
 "cells": [
  {
   "cell_type": "markdown",
   "id": "bb92c40f",
   "metadata": {},
   "source": [
    "# COMMENTS:\n",
    "\n",
    "[23.Mai.2025] \n",
    "- It is good you started trying to download chuncks of the dataset to work with it. You put a lot of relevant general information about the data in the 'data_loader.ipynb' notebook, but please better move this to the file for the report (check the template: https://github.com/IvaroEkel/Probabilistic-Machine-Learning_lecture-PROJECTS/blob/main/templates/TEMPLATE_Probabilistic_Machine_Learning_Project_Report.ipynb)."
   ]
  },
  {
   "cell_type": "markdown",
   "id": "edfdb98d",
   "metadata": {},
   "source": [
    "[06.Jun.2025] \n",
    "Please complete the data exploration and description and start summarizing those results in the report file, to have it clean there and thus you are already progressing with the report.\n"
   ]
  },
  {
   "cell_type": "markdown",
   "id": "40ba66bc",
   "metadata": {},
   "source": [
    "[25.Jun.2025] I find your progress so far in the report clean and well organized. Some observations:\n",
    "\n",
    "- Please try first a few different models. A very good approach is first to use a simple linear model even if they are not probabilistic intrinsically (you can make a linear regression probabilistic by performing explicit uncertainty estimates or even more directly, by performing Bayesian linear regression). You can consider this for instance as a regression problem:  Y is the Elo score, and X is the set of features you have. By performing Bayesian linear regression, you can obtain uncertainty estimates for the predictions.\n",
    "\n",
    "- If you see the problem as a classification problem then you make bins of Elo scores, and each bin is a category, and I think you are making it in terms of deciles from what I can see in your report. That is totally valid. In this case, you can use Gaussian Naive Bayes or Gaussian Discriminant Analysis (GDA) as a probabilistic model.\n",
    "\n",
    "- In the section \"4. Probabilistic Modeling Approach\", better name the section \"4. Modeling Approach\" and remove the word \"Probabilistic\" from the title, as Random Forests and SVMs are not intrinsically probabilistic models in the sense discussed in the course. You can mention that you will use these models for comparison with the probabilistic models you will build later in the project. For instance, as I mentioned bfore, I would require you use some probabilistic model for the classification task, such as Gaussian Naive Bayes, or more generally, a Gaussian Discriminant Analysis (GDA) model. \n",
    "- In section 5, please display the complete table for the 10 deciles. It is not too much and makes your report more complete. Even better, you can complement the tables with plots to help visualize the results. "
   ]
  },
  {
   "cell_type": "markdown",
   "id": "181a15b6",
   "metadata": {},
   "source": []
  },
  {
   "cell_type": "markdown",
   "id": "77a230b6",
   "metadata": {},
   "source": []
  }
 ],
 "metadata": {
  "language_info": {
   "name": "python"
  }
 },
 "nbformat": 4,
 "nbformat_minor": 5
}
