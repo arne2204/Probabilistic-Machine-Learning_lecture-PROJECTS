{
 "cells": [
  {
   "cell_type": "markdown",
   "id": "02d1e7fe",
   "metadata": {},
   "source": [
    "# COMMENTS:\n",
    "\n",
    "[23.05.2023]\n",
    "- It is good that you have started the exploration of your dataset and provided a first general description of it.\n",
    "- Now please provide the data file 'measurement_data_export.csv' in a /data folder, so that I can run the code and check the results. If the file is too large, please provide a sample of it, but also provide a link to a place where I can download the full dataset.\n"
   ]
  },
  {
   "cell_type": "markdown",
   "id": "ad792847",
   "metadata": {},
   "source": [
    "[06.Jun.2025] I suggest you fo the exploration of the dataset in a separate notebook (such as the one I took the liberty to create) and then in the report only provide the results of the exploration, and the summarized description of the dataset. This will make the report more readable and focused on the analysis.\n"
   ]
  },
  {
   "cell_type": "markdown",
   "id": "86aa843d",
   "metadata": {},
   "source": []
  }
 ],
 "metadata": {
  "language_info": {
   "name": "python"
  }
 },
 "nbformat": 4,
 "nbformat_minor": 5
}
