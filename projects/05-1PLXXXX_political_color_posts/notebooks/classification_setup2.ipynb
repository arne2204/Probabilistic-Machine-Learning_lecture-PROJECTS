{
  "cells": [
    {
      "cell_type": "code",
      "execution_count": 6,
      "metadata": {
        "id": "tpxrwoR5dh1d"
      },
      "outputs": [],
      "source": [
        "import pandas as pd\n",
        "from sklearn.ensemble import RandomForestClassifier\n",
        "from sklearn.svm import SVC\n",
        "from sklearn.neural_network import MLPClassifier\n",
        "from sklearn.model_selection import train_test_split\n",
        "from sklearn.preprocessing import StandardScaler\n",
        "from sklearn.metrics import classification_report\n",
        "from xgboost import XGBClassifier\n",
        "from sklearn.discriminant_analysis import LinearDiscriminantAnalysis"
      ]
    },
    {
      "cell_type": "code",
      "execution_count": 7,
      "metadata": {
        "id": "oEPOJV8LYNGX"
      },
      "outputs": [],
      "source": [
        "url = 'https://raw.githubusercontent.com/IvaroEkel/Probabilistic-Machine-Learning_lecture-PROJECTS/refs/heads/main/projects/05-1PLXXXX_political_color_posts/data/final-features-hsv.csv'\n",
        "df = pd.read_csv(url)\n",
        "X = df[[f'feature_{i}' for i in range(13)]]\n",
        "y = df['party']\n",
        "X_train, X_test, y_train, y_test = train_test_split(X, y, stratify=y, test_size=0.2, random_state=42)"
      ]
    },
    {
      "cell_type": "code",
      "execution_count": 8,
      "metadata": {
        "id": "oLJjm3uTgZNM"
      },
      "outputs": [],
      "source": [
        "# extract model metrics\n",
        "def extract_metrics(report):\n",
        "    metrics = {}\n",
        "    lines = report.split(\"\\n\")\n",
        "    for line in lines:\n",
        "        if line.startswith(' ') and len(line.split()) > 1:\n",
        "            parts = line.split()\n",
        "            if len(parts) >= 5:\n",
        "                label = parts[0]\n",
        "                try:\n",
        "                    precision = float(parts[1])\n",
        "                    recall = float(parts[2])\n",
        "                    f1_score = float(parts[3])\n",
        "                    support = int(parts[4])\n",
        "                    metrics[label] = {\n",
        "                        'Precision': precision,\n",
        "                        'Recall': recall,\n",
        "                        'F1-Score': f1_score,\n",
        "                        'Support': support\n",
        "                    }\n",
        "                except ValueError:\n",
        "                    continue\n",
        "    return metrics"
      ]
    },
    {
      "cell_type": "code",
      "execution_count": 9,
      "metadata": {
        "colab": {
          "base_uri": "https://localhost:8080/"
        },
        "id": "d2MDOB3pYG3U",
        "outputId": "d0c84130-8442-4593-c52a-89a48425bc43"
      },
      "outputs": [
        {
          "output_type": "stream",
          "name": "stdout",
          "text": [
            "=== Random Forest ===\n",
            "              precision    recall  f1-score   support\n",
            "\n",
            "         afd       0.72      0.44      0.55       411\n",
            "         cdu       0.49      0.64      0.56      1138\n",
            "         csu       0.54      0.69      0.61      1355\n",
            "         fdp       0.83      0.74      0.78       841\n",
            "      gruene       0.90      0.54      0.67       532\n",
            "       linke       0.56      0.49      0.52       845\n",
            "         spd       0.61      0.45      0.52       563\n",
            "\n",
            "    accuracy                           0.60      5685\n",
            "   macro avg       0.66      0.57      0.60      5685\n",
            "weighted avg       0.63      0.60      0.60      5685\n",
            "\n"
          ]
        }
      ],
      "source": [
        "# 1. Random Forest\n",
        "rf = RandomForestClassifier(class_weight='balanced', random_state=42)\n",
        "rf.fit(X_train, y_train)\n",
        "y_pred_rf = rf.predict(X_test)\n",
        "report_rf = classification_report(y_test, y_pred_rf)\n",
        "metrics_rf = extract_metrics(report_rf)\n",
        "print(\"=== Random Forest ===\")\n",
        "print(report_rf)"
      ]
    },
    {
      "cell_type": "code",
      "source": [
        "# 2. XGBoost\n",
        "# Encode the target variable\n",
        "from sklearn.preprocessing import LabelEncoder\n",
        "le = LabelEncoder()\n",
        "y_train_encoded = le.fit_transform(y_train)\n",
        "y_test_encoded = le.transform(y_test)\n",
        "\n",
        "xgb = XGBClassifier(use_label_encoder=False, eval_metric='mlogloss', random_state=42)\n",
        "xgb.fit(X_train, y_train_encoded)\n",
        "y_pred_xgb_encoded = xgb.predict(X_test)\n",
        "\n",
        "# Decode the predictions back to original labels for classification report\n",
        "y_pred_xgb = le.inverse_transform(y_pred_xgb_encoded)\n",
        "\n",
        "report_xgb = classification_report(y_test, y_pred_xgb)\n",
        "metrics_xgb = extract_metrics(report_xgb)\n",
        "print(\"=== XGBoost ===\")\n",
        "print(report_xgb)"
      ],
      "metadata": {
        "colab": {
          "base_uri": "https://localhost:8080/"
        },
        "id": "3YQPMAhUky1W",
        "outputId": "37fbbc65-ccab-4814-d0df-8753652a6de3"
      },
      "execution_count": 10,
      "outputs": [
        {
          "output_type": "stream",
          "name": "stderr",
          "text": [
            "/usr/local/lib/python3.11/dist-packages/xgboost/training.py:183: UserWarning: [07:48:02] WARNING: /workspace/src/learner.cc:738: \n",
            "Parameters: { \"use_label_encoder\" } are not used.\n",
            "\n",
            "  bst.update(dtrain, iteration=i, fobj=obj)\n"
          ]
        },
        {
          "output_type": "stream",
          "name": "stdout",
          "text": [
            "=== XGBoost ===\n",
            "              precision    recall  f1-score   support\n",
            "\n",
            "         afd       0.74      0.52      0.61       411\n",
            "         cdu       0.55      0.65      0.59      1138\n",
            "         csu       0.60      0.68      0.64      1355\n",
            "         fdp       0.83      0.81      0.82       841\n",
            "      gruene       0.82      0.61      0.70       532\n",
            "       linke       0.60      0.55      0.57       845\n",
            "         spd       0.56      0.52      0.54       563\n",
            "\n",
            "    accuracy                           0.64      5685\n",
            "   macro avg       0.67      0.62      0.64      5685\n",
            "weighted avg       0.65      0.64      0.64      5685\n",
            "\n"
          ]
        }
      ]
    },
    {
      "cell_type": "code",
      "execution_count": 11,
      "metadata": {
        "colab": {
          "base_uri": "https://localhost:8080/"
        },
        "id": "P41epFqdYA0-",
        "outputId": "8a34409c-c637-48f5-c407-70e16efe8e56"
      },
      "outputs": [
        {
          "output_type": "stream",
          "name": "stdout",
          "text": [
            "=== Support Vector Machine (SVM) ===\n",
            "              precision    recall  f1-score   support\n",
            "\n",
            "         afd       0.42      0.61      0.50       411\n",
            "         cdu       0.45      0.61      0.52      1138\n",
            "         csu       0.69      0.46      0.55      1355\n",
            "         fdp       0.80      0.70      0.75       841\n",
            "      gruene       0.68      0.60      0.64       532\n",
            "       linke       0.49      0.40      0.44       845\n",
            "         spd       0.42      0.58      0.49       563\n",
            "\n",
            "    accuracy                           0.55      5685\n",
            "   macro avg       0.56      0.56      0.55      5685\n",
            "weighted avg       0.58      0.55      0.55      5685\n",
            "\n"
          ]
        }
      ],
      "source": [
        "# 3. Support Vector Machine (SVM)\n",
        "scaler = StandardScaler()\n",
        "X_train_scaled = scaler.fit_transform(X_train)\n",
        "X_test_scaled = scaler.transform(X_test)\n",
        "\n",
        "svm = SVC(kernel='rbf', class_weight='balanced', random_state=42)\n",
        "svm.fit(X_train_scaled, y_train)\n",
        "y_pred_svm = svm.predict(X_test_scaled)\n",
        "report_svm = classification_report(y_test, y_pred_svm)\n",
        "metrics_svm = extract_metrics(report_svm)\n",
        "print(\"=== Support Vector Machine (SVM) ===\")\n",
        "print(report_svm)"
      ]
    },
    {
      "cell_type": "code",
      "execution_count": 12,
      "metadata": {
        "colab": {
          "base_uri": "https://localhost:8080/"
        },
        "id": "I9EPf5TYc1t4",
        "outputId": "9c028d43-f6a3-4ee9-9130-354ee690fab5"
      },
      "outputs": [
        {
          "output_type": "stream",
          "name": "stdout",
          "text": [
            "=== MLP Classifier ===\n",
            "              precision    recall  f1-score   support\n",
            "\n",
            "         afd       0.58      0.49      0.53       411\n",
            "         cdu       0.49      0.58      0.53      1138\n",
            "         csu       0.58      0.57      0.58      1355\n",
            "         fdp       0.74      0.75      0.74       841\n",
            "      gruene       0.60      0.61      0.61       532\n",
            "       linke       0.50      0.44      0.47       845\n",
            "         spd       0.50      0.46      0.48       563\n",
            "\n",
            "    accuracy                           0.57      5685\n",
            "   macro avg       0.57      0.56      0.56      5685\n",
            "weighted avg       0.57      0.57      0.57      5685\n",
            "\n"
          ]
        }
      ],
      "source": [
        "# 4. MLP Classifier\n",
        "mlp = MLPClassifier(\n",
        "    hidden_layer_sizes=(128, 64),\n",
        "    activation='relu',\n",
        "    learning_rate_init=0.001,\n",
        "    max_iter=1000,\n",
        "    alpha=0.0001,\n",
        "    random_state=42\n",
        ")\n",
        "\n",
        "mlp.fit(X_train_scaled, y_train)\n",
        "y_pred_mlp = mlp.predict(X_test_scaled)\n",
        "report_mlp = classification_report(y_test, y_pred_mlp)\n",
        "metrics_mlp = extract_metrics(report_mlp)\n",
        "print(\"=== MLP Classifier ===\")\n",
        "print(report_mlp)"
      ]
    },
    {
      "cell_type": "code",
      "source": [
        "# 5. Linear Discriminant Analysis (LDA)\n",
        "lda = LinearDiscriminantAnalysis()\n",
        "lda.fit(X_train_scaled, y_train)\n",
        "y_pred_lda = lda.predict(X_test_scaled)\n",
        "report_lda = classification_report(y_test, y_pred_lda)\n",
        "metrics_lda = extract_metrics(report_lda)\n",
        "print(\"=== Linear Discriminant Analysis (LDA) ===\")\n",
        "print(report_lda)"
      ],
      "metadata": {
        "colab": {
          "base_uri": "https://localhost:8080/"
        },
        "id": "Oeb9PVGqJeVo",
        "outputId": "88906848-6426-4ec6-ab1e-0ac7fd04f2b5"
      },
      "execution_count": 13,
      "outputs": [
        {
          "output_type": "stream",
          "name": "stdout",
          "text": [
            "=== Linear Discriminant Analysis (LDA) ===\n",
            "              precision    recall  f1-score   support\n",
            "\n",
            "         afd       0.44      0.05      0.09       411\n",
            "         cdu       0.33      0.33      0.33      1138\n",
            "         csu       0.39      0.64      0.48      1355\n",
            "         fdp       0.58      0.50      0.54       841\n",
            "      gruene       0.60      0.38      0.46       532\n",
            "       linke       0.38      0.33      0.35       845\n",
            "         spd       0.48      0.39      0.43       563\n",
            "\n",
            "    accuracy                           0.42      5685\n",
            "   macro avg       0.46      0.37      0.38      5685\n",
            "weighted avg       0.44      0.42      0.41      5685\n",
            "\n"
          ]
        }
      ]
    },
    {
      "cell_type": "code",
      "execution_count": 14,
      "metadata": {
        "colab": {
          "base_uri": "https://localhost:8080/"
        },
        "id": "mL7AP-5ig2Qc",
        "outputId": "deafdc70-8fc8-49e0-f731-1382f26aa6b2"
      },
      "outputs": [
        {
          "output_type": "stream",
          "name": "stdout",
          "text": [
            "=== Modellvergleich ===\n",
            "         Random Forest   SVM   MLP  XGBoost   LDA  Average\n",
            "afd               0.55  0.50  0.53     0.61  0.09     0.46\n",
            "cdu               0.56  0.52  0.53     0.59  0.33     0.51\n",
            "csu               0.61  0.55  0.58     0.64  0.48     0.57\n",
            "fdp               0.78  0.75  0.74     0.82  0.54     0.73\n",
            "gruene            0.67  0.64  0.61     0.70  0.46     0.62\n",
            "linke             0.52  0.44  0.47     0.57  0.35     0.47\n",
            "spd               0.52  0.49  0.48     0.54  0.43     0.49\n",
            "Average           0.60  0.56  0.56     0.64  0.38     0.55\n"
          ]
        }
      ],
      "source": [
        "metrics_all = {}\n",
        "\n",
        "for label in metrics_rf:\n",
        "    metrics_all[label] = {\n",
        "        'Random Forest': metrics_rf[label]['F1-Score'],\n",
        "        'SVM': metrics_svm[label]['F1-Score'],\n",
        "        'MLP': metrics_mlp[label]['F1-Score'],\n",
        "        'XGBoost': metrics_xgb[label]['F1-Score'],\n",
        "        'LDA': metrics_lda[label]['F1-Score']\n",
        "    }\n",
        "\n",
        "metrics_df = pd.DataFrame(metrics_all).T\n",
        "\n",
        "metrics_df[\"Average\"] = metrics_df.mean(axis=1)\n",
        "\n",
        "average_row = metrics_df.mean(numeric_only=True)\n",
        "average_row.name = \"Average\"\n",
        "metrics_df = pd.concat([metrics_df, average_row.to_frame().T])\n",
        "\n",
        "#Output\n",
        "print(\"=== Modellvergleich ===\")\n",
        "print(metrics_df.round(2))"
      ]
    }
  ],
  "metadata": {
    "colab": {
      "provenance": []
    },
    "kernelspec": {
      "display_name": "Python 3",
      "name": "python3"
    },
    "language_info": {
      "name": "python"
    }
  },
  "nbformat": 4,
  "nbformat_minor": 0
}