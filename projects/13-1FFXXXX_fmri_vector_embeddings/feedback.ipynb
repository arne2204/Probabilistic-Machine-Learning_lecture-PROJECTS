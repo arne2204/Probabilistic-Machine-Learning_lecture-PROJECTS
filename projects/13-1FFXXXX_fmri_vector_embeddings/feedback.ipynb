{
 "cells": [
  {
   "cell_type": "markdown",
   "id": "bb92c40f",
   "metadata": {},
   "source": [
    "# COMMENTS:\n",
    "\n",
    "[23.Mai.2025] \n",
    "- Please start exploring your dataset(s), provide a general description of it: Source of the data and its general meaning and contents, number of samples, number of features, etc., and then provide a summary of the data types and missing values.\n",
    "  You can already include that progress of cleaning the data and its description in the report. \n",
    "- It is good you already included some data and a script to process it, but it is necessary to include a description of the data and its meaning."
   ]
  },
  {
   "cell_type": "markdown",
   "id": "edfdb98d",
   "metadata": {},
   "source": [
    "[06.Jun.2025] \n",
    "\n",
    "- It is important that you include a description of the text you use in your project, its source, and its meaning.\n",
    "\n",
    "- Also, please mention the self-supervised learning method you wish to use to process the embeddings, and how you connect this with the text data.\n"
   ]
  },
  {
   "cell_type": "markdown",
   "id": "9a3687d4",
   "metadata": {},
   "source": []
  }
 ],
 "metadata": {
  "language_info": {
   "name": "python"
  }
 },
 "nbformat": 4,
 "nbformat_minor": 5
}
